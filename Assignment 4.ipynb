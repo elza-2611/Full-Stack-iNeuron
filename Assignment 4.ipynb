{
 "cells": [
  {
   "cell_type": "code",
   "execution_count": 1,
   "id": "bda18fc1",
   "metadata": {},
   "outputs": [
    {
     "data": {
      "text/plain": [
       "'1. What exactly is []?\\nIt is the bracket used for list'"
      ]
     },
     "execution_count": 1,
     "metadata": {},
     "output_type": "execute_result"
    }
   ],
   "source": [
    "'''1. What exactly is []?\n",
    "It is the bracket used for list'''"
   ]
  },
  {
   "cell_type": "code",
   "execution_count": 3,
   "id": "97063f29",
   "metadata": {},
   "outputs": [
    {
     "data": {
      "text/plain": [
       "[2, 4, 6, 'hello', 10]"
      ]
     },
     "execution_count": 3,
     "metadata": {},
     "output_type": "execute_result"
    }
   ],
   "source": [
    "'''2. In a list of values stored in a variable called spam, how would you assign the value 'hello' as the\n",
    "third value? (Assume [2, 4, 6, 8, 10] are in spam.)'''\n",
    "spam=[2, 4, 6, 8, 10]\n",
    "spam[3]='hello'\n",
    "spam"
   ]
  },
  {
   "cell_type": "code",
   "execution_count": 4,
   "id": "cf9ed5b7",
   "metadata": {},
   "outputs": [
    {
     "data": {
      "text/plain": [
       "'hello'"
      ]
     },
     "execution_count": 4,
     "metadata": {},
     "output_type": "execute_result"
    }
   ],
   "source": [
    "'''3. What is the value of spam[int(int('3' * 2) / 11)]?'''\n",
    "spam[int(int('3' * 2) / 11)]"
   ]
  },
  {
   "cell_type": "code",
   "execution_count": 5,
   "id": "3d719331",
   "metadata": {},
   "outputs": [
    {
     "data": {
      "text/plain": [
       "10"
      ]
     },
     "execution_count": 5,
     "metadata": {},
     "output_type": "execute_result"
    }
   ],
   "source": [
    "'''4. What is the value of spam[-1]?'''\n",
    "spam[-1]"
   ]
  },
  {
   "cell_type": "code",
   "execution_count": 6,
   "id": "61fbc463",
   "metadata": {},
   "outputs": [
    {
     "data": {
      "text/plain": [
       "[2, 4]"
      ]
     },
     "execution_count": 6,
     "metadata": {},
     "output_type": "execute_result"
    }
   ],
   "source": [
    "'''5. What is the value of spam[:2]?'''\n",
    "spam[:2]"
   ]
  },
  {
   "cell_type": "code",
   "execution_count": 12,
   "id": "b053d169",
   "metadata": {},
   "outputs": [],
   "source": [
    "bacon=[3.14, 'cat', 11, 'cat', True]"
   ]
  },
  {
   "cell_type": "code",
   "execution_count": 8,
   "id": "9b0eabf0",
   "metadata": {},
   "outputs": [
    {
     "data": {
      "text/plain": [
       "1"
      ]
     },
     "execution_count": 8,
     "metadata": {},
     "output_type": "execute_result"
    }
   ],
   "source": [
    "'''6. What is the value of bacon.index('cat')?'''\n",
    "bacon.index('cat')"
   ]
  },
  {
   "cell_type": "code",
   "execution_count": 13,
   "id": "43b08b9b",
   "metadata": {},
   "outputs": [],
   "source": [
    "'''7. How does bacon.append(99) change the look of the list value in bacon?'''\n",
    "bacon.append(99)"
   ]
  },
  {
   "cell_type": "code",
   "execution_count": 14,
   "id": "978f401e",
   "metadata": {},
   "outputs": [
    {
     "data": {
      "text/plain": [
       "[3.14, 'cat', 11, 'cat', True, 99]"
      ]
     },
     "execution_count": 14,
     "metadata": {},
     "output_type": "execute_result"
    }
   ],
   "source": [
    "bacon"
   ]
  },
  {
   "cell_type": "code",
   "execution_count": 17,
   "id": "31d13bd8",
   "metadata": {},
   "outputs": [],
   "source": [
    "'''8. How does bacon.remove('cat') change the look of the list in bacon?'''\n",
    "bacon.remove('cat')"
   ]
  },
  {
   "cell_type": "code",
   "execution_count": 18,
   "id": "97c37cbb",
   "metadata": {},
   "outputs": [
    {
     "data": {
      "text/plain": [
       "[3.14, 11, True, 99]"
      ]
     },
     "execution_count": 18,
     "metadata": {},
     "output_type": "execute_result"
    }
   ],
   "source": [
    "bacon"
   ]
  },
  {
   "cell_type": "code",
   "execution_count": 19,
   "id": "23f42709",
   "metadata": {},
   "outputs": [
    {
     "data": {
      "text/plain": [
       "'9. What are the list concatenation and list replication operators?\\nList concatenation is +\\nList replication operator is *'"
      ]
     },
     "execution_count": 19,
     "metadata": {},
     "output_type": "execute_result"
    }
   ],
   "source": [
    "'''9. What are the list concatenation and list replication operators?\n",
    "List concatenation is +\n",
    "List replication operator is *'''"
   ]
  },
  {
   "cell_type": "code",
   "execution_count": null,
   "id": "b6fcf2dd",
   "metadata": {},
   "outputs": [],
   "source": [
    "'''10. What is difference between the list methods append() and insert()?\n",
    "append adds data to the end of the list\n",
    "insert adds data to the position mentioned in the parameter of index()'''"
   ]
  },
  {
   "cell_type": "code",
   "execution_count": 24,
   "id": "69588a53",
   "metadata": {},
   "outputs": [
    {
     "data": {
      "text/plain": [
       "\"11. What are the two methods for removing items from a list?\\nbacon.remove('cat')\\nbacon.clear()\""
      ]
     },
     "execution_count": 24,
     "metadata": {},
     "output_type": "execute_result"
    }
   ],
   "source": [
    "'''11. What are the two methods for removing items from a list?\n",
    "bacon.remove('cat')\n",
    "bacon.clear()'''"
   ]
  },
  {
   "cell_type": "code",
   "execution_count": null,
   "id": "eb671367",
   "metadata": {},
   "outputs": [],
   "source": [
    "'''13. What's the difference between tuples and lists?\n",
    "List is mutable; tuples are immutable'''"
   ]
  },
  {
   "cell_type": "code",
   "execution_count": 30,
   "id": "d2e09e33",
   "metadata": {},
   "outputs": [
    {
     "data": {
      "text/plain": [
       "tuple"
      ]
     },
     "execution_count": 30,
     "metadata": {},
     "output_type": "execute_result"
    }
   ],
   "source": [
    "'''14. How do you type a tuple value that only contains the integer 42?'''\n",
    "a=(42,)\n",
    "type(a)"
   ]
  },
  {
   "cell_type": "code",
   "execution_count": 32,
   "id": "f9f5d970",
   "metadata": {},
   "outputs": [
    {
     "data": {
      "text/plain": [
       "[1, 2, 3]"
      ]
     },
     "execution_count": 32,
     "metadata": {},
     "output_type": "execute_result"
    }
   ],
   "source": [
    "'''15. How do you get a list value's tuple form? How do you get a tuple value's list form?'''\n",
    "a=[1,2,3]\n",
    "tuple(a)\n",
    "list(a)"
   ]
  },
  {
   "cell_type": "code",
   "execution_count": 34,
   "id": "8ec4e562",
   "metadata": {},
   "outputs": [
    {
     "name": "stdout",
     "output_type": "stream",
     "text": [
      "1 <class 'int'>\n",
      "a <class 'str'>\n",
      "True <class 'bool'>\n",
      "[1, 2, 3] <class 'list'>\n",
      "3.14 <class 'float'>\n"
     ]
    }
   ],
   "source": [
    "'''16. Variables that \"contain\" list values are not necessarily lists themselves. Instead, what do they\n",
    "contain?\n",
    "List can contain integer,string,boolean, float,etc.'''\n",
    "a=[1,'a',True,[1,2,3],3.14]\n",
    "for i in a:\n",
    "    print(i,type(i))\n"
   ]
  },
  {
   "cell_type": "code",
   "execution_count": null,
   "id": "03f8cd01",
   "metadata": {},
   "outputs": [],
   "source": [
    "'''17. How do you distinguish between copy.copy() and copy.deepcopy()?\n",
    "copy() create reference to original object. If you change copied object - you change the original object.\n",
    "deepcopy() creates new object and does real copying of original object to new one. \n",
    "Changing new deepcopied object doesn't affect original object.'''\n"
   ]
  }
 ],
 "metadata": {
  "kernelspec": {
   "display_name": "Python 3",
   "language": "python",
   "name": "python3"
  },
  "language_info": {
   "codemirror_mode": {
    "name": "ipython",
    "version": 3
   },
   "file_extension": ".py",
   "mimetype": "text/x-python",
   "name": "python",
   "nbconvert_exporter": "python",
   "pygments_lexer": "ipython3",
   "version": "3.8.8"
  }
 },
 "nbformat": 4,
 "nbformat_minor": 5
}
