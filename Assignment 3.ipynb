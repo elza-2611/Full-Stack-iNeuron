{
 "cells": [
  {
   "cell_type": "code",
   "execution_count": 1,
   "id": "2b2f9916",
   "metadata": {},
   "outputs": [
    {
     "data": {
      "text/plain": [
       "'1. Why are functions advantageous to have in your programs?\\nInstead of repeatedly writing/using the same code again, we can define a function for the same output . \\nThereby for multiple inputs, we can call the same function for the same output.'"
      ]
     },
     "execution_count": 1,
     "metadata": {},
     "output_type": "execute_result"
    }
   ],
   "source": [
    "'''1. Why are functions advantageous to have in your programs?\n",
    "Instead of repeatedly writing/using the same code again, we can define a function for the same output . \n",
    "Thereby for multiple inputs, we can call the same function for the same output.'''\n"
   ]
  },
  {
   "cell_type": "code",
   "execution_count": 2,
   "id": "88f3114e",
   "metadata": {},
   "outputs": [
    {
     "data": {
      "text/plain": [
       "\"2. When does the code in a function run: when it's specified or when it's called?\\nThe code in a function runs when its called along with the parameters\""
      ]
     },
     "execution_count": 2,
     "metadata": {},
     "output_type": "execute_result"
    }
   ],
   "source": [
    "'''2. When does the code in a function run: when it's specified or when it's called?\n",
    "The code in a function runs when its called along with the parameters'''"
   ]
  },
  {
   "cell_type": "code",
   "execution_count": 3,
   "id": "efd777df",
   "metadata": {},
   "outputs": [
    {
     "data": {
      "text/plain": [
       "'3. What statement creates a function?\\ndef function_name(parameter):'"
      ]
     },
     "execution_count": 3,
     "metadata": {},
     "output_type": "execute_result"
    }
   ],
   "source": [
    "'''3. What statement creates a function?\n",
    "def function_name(parameter):'''"
   ]
  },
  {
   "cell_type": "code",
   "execution_count": 4,
   "id": "a2928180",
   "metadata": {},
   "outputs": [
    {
     "data": {
      "text/plain": [
       "'4. What is the difference between a function and a function call?\\nA function is the code that produces a particular output for parameters as input.\\nA function call is the code used to pass control to a function.'"
      ]
     },
     "execution_count": 4,
     "metadata": {},
     "output_type": "execute_result"
    }
   ],
   "source": [
    "'''4. What is the difference between a function and a function call?\n",
    "A function is the code that produces a particular output for parameters as input.\n",
    "A function call is the code used to pass control to a function.'''"
   ]
  },
  {
   "cell_type": "code",
   "execution_count": 5,
   "id": "b05fa6fa",
   "metadata": {},
   "outputs": [
    {
     "data": {
      "text/plain": [
       "'5.How many global scopes are there in a Python program? How many local scopes?\\nLocal scope is created whenever a function is defined '"
      ]
     },
     "execution_count": 5,
     "metadata": {},
     "output_type": "execute_result"
    }
   ],
   "source": [
    "'''5.How many global scopes are there in a Python program? How many local scopes?\n",
    "Local scope is created whenever a function is defined '''"
   ]
  },
  {
   "cell_type": "code",
   "execution_count": 6,
   "id": "1bf2772f",
   "metadata": {},
   "outputs": [
    {
     "data": {
      "text/plain": [
       "'7. What is the concept of a return value? Is it possible to have a return value in an expression?\\nFor print statement, the output returns as (None type); whereas the return statement gives an output \\nwith respect to the input and the code e.g. int, str, etc.'"
      ]
     },
     "execution_count": 6,
     "metadata": {},
     "output_type": "execute_result"
    }
   ],
   "source": [
    "'''7. What is the concept of a return value? Is it possible to have a return value in an expression?\n",
    "For print statement, the output returns as (None type); whereas the return statement gives an output \n",
    "with respect to the input and the code e.g. int, str, etc.'''"
   ]
  },
  {
   "cell_type": "code",
   "execution_count": 7,
   "id": "92dc7d52",
   "metadata": {},
   "outputs": [
    {
     "data": {
      "text/plain": [
       "'8. If a function does not have a return statement, what is the return value of a call to that function?\\nNone type'"
      ]
     },
     "execution_count": 7,
     "metadata": {},
     "output_type": "execute_result"
    }
   ],
   "source": [
    "'''8. If a function does not have a return statement, what is the return value of a call to that function?\n",
    "None type'''"
   ]
  },
  {
   "cell_type": "code",
   "execution_count": 17,
   "id": "7a7d73c1",
   "metadata": {},
   "outputs": [
    {
     "data": {
      "text/plain": [
       "300"
      ]
     },
     "execution_count": 17,
     "metadata": {},
     "output_type": "execute_result"
    }
   ],
   "source": [
    "'''9. How do you make a function variable refer to the global variable?'''\n",
    "x=300\n",
    "def g(x):\n",
    "    return x\n",
    "g(x)"
   ]
  },
  {
   "cell_type": "code",
   "execution_count": 8,
   "id": "a0d09c1c",
   "metadata": {},
   "outputs": [
    {
     "data": {
      "text/plain": [
       "'10. What is the data type of None?\\nNone is a data type of its own (NoneType)'"
      ]
     },
     "execution_count": 8,
     "metadata": {},
     "output_type": "execute_result"
    }
   ],
   "source": [
    "'''10. What is the data type of None?\n",
    "None is a data type of its own (NoneType)'''"
   ]
  },
  {
   "cell_type": "code",
   "execution_count": 9,
   "id": "c4fe9150",
   "metadata": {},
   "outputs": [
    {
     "data": {
      "text/plain": [
       "'11. What does the sentence import areallyourpetsnamederic do?\\nIt will import the module areallyourpetsnamederic '"
      ]
     },
     "execution_count": 9,
     "metadata": {},
     "output_type": "execute_result"
    }
   ],
   "source": [
    "'''11. What does the sentence import areallyourpetsnamederic do?\n",
    "It will import the module areallyourpetsnamederic '''"
   ]
  },
  {
   "cell_type": "code",
   "execution_count": 10,
   "id": "84ac0df3",
   "metadata": {},
   "outputs": [
    {
     "data": {
      "text/plain": [
       "'12. If you had a bacon() feature in a spam module, what would you call it after importing spam?\\nThe function can be called as spam.bacon()'"
      ]
     },
     "execution_count": 10,
     "metadata": {},
     "output_type": "execute_result"
    }
   ],
   "source": [
    "'''12. If you had a bacon() feature in a spam module, what would you call it after importing spam?\n",
    "The function can be called as spam.bacon()'''"
   ]
  },
  {
   "cell_type": "code",
   "execution_count": 11,
   "id": "7563153a",
   "metadata": {},
   "outputs": [
    {
     "data": {
      "text/plain": [
       "'13. What can you do to save a programme from crashing if it encounters an error?\\nUse the try clause for the code which is doubtful or might have an error'"
      ]
     },
     "execution_count": 11,
     "metadata": {},
     "output_type": "execute_result"
    }
   ],
   "source": [
    "'''13. What can you do to save a programme from crashing if it encounters an error?\n",
    "Use the try clause for the code which is doubtful or might have an error'''"
   ]
  },
  {
   "cell_type": "code",
   "execution_count": 12,
   "id": "34d7f1e7",
   "metadata": {},
   "outputs": [
    {
     "data": {
      "text/plain": [
       "'14. What is the purpose of the try clause? What is the purpose of the except clause?\\nUse the try clause for the code which is doubtful or might have an error.\\nWhichever code leads to an error, will go into the except clause'"
      ]
     },
     "execution_count": 12,
     "metadata": {},
     "output_type": "execute_result"
    }
   ],
   "source": [
    "'''14. What is the purpose of the try clause? What is the purpose of the except clause?\n",
    "Use the try clause for the code which is doubtful or might have an error.\n",
    "Whichever code leads to an error, will go into the except clause'''"
   ]
  }
 ],
 "metadata": {
  "kernelspec": {
   "display_name": "Python 3",
   "language": "python",
   "name": "python3"
  },
  "language_info": {
   "codemirror_mode": {
    "name": "ipython",
    "version": 3
   },
   "file_extension": ".py",
   "mimetype": "text/x-python",
   "name": "python",
   "nbconvert_exporter": "python",
   "pygments_lexer": "ipython3",
   "version": "3.8.8"
  }
 },
 "nbformat": 4,
 "nbformat_minor": 5
}
