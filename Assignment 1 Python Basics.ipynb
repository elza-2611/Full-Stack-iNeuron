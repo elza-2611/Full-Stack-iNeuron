{
 "cells": [
  {
   "cell_type": "code",
   "execution_count": 2,
   "id": "96509604",
   "metadata": {},
   "outputs": [
    {
     "data": {
      "text/plain": [
       "\"\\n1.In the below elements which of them are values or an expression? eg:- values can be integer or string and expressions \\nwill be mathematical operators.\\n*       since it is a mathematical operator , thus expression\\n'hello' since it has characters/alphabets, thus value\\n-87.8    since it is a negative number ,thus value\\n-       since it is a mathematical operator , thus expression\\n/       since it is a mathematical operator , thus expression\\n+       since it is a mathematical operator , thus expression\\n6       since it is an integer, thus value \""
      ]
     },
     "execution_count": 2,
     "metadata": {},
     "output_type": "execute_result"
    }
   ],
   "source": [
    "'''\n",
    "1.In the below elements which of them are values or an expression? eg:- values can be integer or string and expressions \n",
    "will be mathematical operators.\n",
    "*       since it is a mathematical operator , thus expression\n",
    "'hello' since it is a string, thus value\n",
    "-87.8   since it is a negative number ,thus value\n",
    "-       since it is a mathematical operator , thus expression\n",
    "/       since it is a mathematical operator , thus expression\n",
    "+       since it is a mathematical operator , thus expression\n",
    "6       since it is an integer, thus value '''\n",
    "\n"
   ]
  },
  {
   "cell_type": "code",
   "execution_count": 4,
   "id": "6151fc89",
   "metadata": {},
   "outputs": [
    {
     "data": {
      "text/plain": [
       "\"2. What is the difference between string and variable?\\nVariable is anything which can hold data and then later can be accessed and used.\\nWhere as string is a data type which can have either alphabets or numbers or any data in qutoes e.g. '1','a' \""
      ]
     },
     "execution_count": 4,
     "metadata": {},
     "output_type": "execute_result"
    }
   ],
   "source": [
    "'''2. What is the difference between string and variable?\n",
    "Variable is anything which can hold data and then later can be accessed and used.\n",
    "Where as string is a data type which can have either alphabets or numbers or any data in qutoes e.g. '1','a' '''\n",
    "    "
   ]
  },
  {
   "cell_type": "code",
   "execution_count": 5,
   "id": "822d2812",
   "metadata": {},
   "outputs": [
    {
     "data": {
      "text/plain": [
       "\"3. Describe three different data types.\\nString- string is a data type which can have either alphabets or numbers or any data in qutoes e.g. '1','a' \\nInteger- integer is a data type which can hold integers \\nList- this can hold data of any type e.g. ['a',1,1.1,True,3+2j,['a',1]] \""
      ]
     },
     "execution_count": 5,
     "metadata": {},
     "output_type": "execute_result"
    }
   ],
   "source": [
    "'''3. Describe three different data types.\n",
    "String- string is a data type which can have either alphabets or numbers or any data in qutoes e.g. '1','a' \n",
    "Integer- integer is a data type which can hold integers \n",
    "List- this can hold data of any type e.g. ['a',1,1.1,True,3+2j,['a',1]] '''\n"
   ]
  },
  {
   "cell_type": "code",
   "execution_count": 6,
   "id": "5efe68f3",
   "metadata": {},
   "outputs": [
    {
     "data": {
      "text/plain": [
       "'4. What is an expression made up of? What do all expressions do?\\nExpression consists of operators and variables that is used to interpret some other value'"
      ]
     },
     "execution_count": 6,
     "metadata": {},
     "output_type": "execute_result"
    }
   ],
   "source": [
    "'''4. What is an expression made up of? What do all expressions do?\n",
    "Expression consists of operators and variables that is used to interpret some other value'''"
   ]
  },
  {
   "cell_type": "code",
   "execution_count": 7,
   "id": "1b804e9a",
   "metadata": {},
   "outputs": [
    {
     "data": {
      "text/plain": [
       "'5. This assignment statements, like spam = 10. What is the difference between an expression and a statement?\\nStatements represent an action or command e.g print statements, assignment statements. \\nExpression is a combination of variables and operators that is used to interpret some other value.'"
      ]
     },
     "execution_count": 7,
     "metadata": {},
     "output_type": "execute_result"
    }
   ],
   "source": [
    "'''5. This assignment statements, like spam = 10. What is the difference between an expression and a statement?\n",
    "Statements represent an action or command e.g print statements, assignment statements. \n",
    "Expression is a combination of variables and operators that is used to interpret some other value.'''"
   ]
  },
  {
   "cell_type": "code",
   "execution_count": 8,
   "id": "68876fa0",
   "metadata": {},
   "outputs": [
    {
     "data": {
      "text/plain": [
       "23"
      ]
     },
     "execution_count": 8,
     "metadata": {},
     "output_type": "execute_result"
    }
   ],
   "source": [
    "'''6. After running the following code, what does the variable bacon contain?\n",
    "bacon = 22\n",
    "bacon + 1'''\n",
    "bacon=22\n",
    "bacon+1"
   ]
  },
  {
   "cell_type": "code",
   "execution_count": null,
   "id": "2ffec02f",
   "metadata": {},
   "outputs": [],
   "source": [
    "'''7. What should the values of the following two terms be?\n",
    "'spam' + 'spamspam'\n",
    "'spam'* 3'''"
   ]
  },
  {
   "cell_type": "code",
   "execution_count": 9,
   "id": "e6f09518",
   "metadata": {},
   "outputs": [
    {
     "data": {
      "text/plain": [
       "'spamspamspam'"
      ]
     },
     "execution_count": 9,
     "metadata": {},
     "output_type": "execute_result"
    }
   ],
   "source": [
    "'spam' + 'spamspam'"
   ]
  },
  {
   "cell_type": "code",
   "execution_count": 10,
   "id": "a2c5d186",
   "metadata": {},
   "outputs": [
    {
     "data": {
      "text/plain": [
       "'spamspamspam'"
      ]
     },
     "execution_count": 10,
     "metadata": {},
     "output_type": "execute_result"
    }
   ],
   "source": [
    "'spam'* 3"
   ]
  },
  {
   "cell_type": "code",
   "execution_count": 11,
   "id": "3b010152",
   "metadata": {},
   "outputs": [
    {
     "data": {
      "text/plain": [
       "'The output will be same'"
      ]
     },
     "execution_count": 11,
     "metadata": {},
     "output_type": "execute_result"
    }
   ],
   "source": [
    "'The output will be same'"
   ]
  },
  {
   "cell_type": "code",
   "execution_count": 12,
   "id": "851956d4",
   "metadata": {},
   "outputs": [
    {
     "data": {
      "text/plain": [
       "'8. Why is eggs a valid variable name while 100 is invalid?\\nAs a rule,variable can not be named in integers and only alphabets or words are allowed'"
      ]
     },
     "execution_count": 12,
     "metadata": {},
     "output_type": "execute_result"
    }
   ],
   "source": [
    "'''8. Why is eggs a valid variable name while 100 is invalid?\n",
    "As a rule,variable can not be named in integers and only alphabets or words are allowed'''"
   ]
  },
  {
   "cell_type": "code",
   "execution_count": 13,
   "id": "fa3622e0",
   "metadata": {},
   "outputs": [
    {
     "data": {
      "text/plain": [
       "'9. What three functions can be used to get the integer, floating-point number, or string\\nversion of a value?\\nThe process is termed as type casting\\nint()\\nfloat()\\nstr()'"
      ]
     },
     "execution_count": 13,
     "metadata": {},
     "output_type": "execute_result"
    }
   ],
   "source": [
    "'''9. What three functions can be used to get the integer, floating-point number, or string\n",
    "version of a value?\n",
    "The process is termed as type casting\n",
    "int()\n",
    "float()\n",
    "str()'''"
   ]
  },
  {
   "cell_type": "code",
   "execution_count": 15,
   "id": "37abaaf0",
   "metadata": {},
   "outputs": [
    {
     "data": {
      "text/plain": [
       "'I have eaten 99 burritos.'"
      ]
     },
     "execution_count": 15,
     "metadata": {},
     "output_type": "execute_result"
    }
   ],
   "source": [
    "'''10. Why does this expression cause an error? How can you fix it?\n",
    "'I have eaten' + 99 + 'burritos.'\n",
    "Its an error because 99 is an integer, different data types cannot be added'''\n",
    "'I have eaten'+' 99'+' burritos.'"
   ]
  },
  {
   "cell_type": "code",
   "execution_count": null,
   "id": "614a4016",
   "metadata": {},
   "outputs": [],
   "source": []
  },
  {
   "cell_type": "code",
   "execution_count": null,
   "id": "c3949bd2",
   "metadata": {},
   "outputs": [],
   "source": []
  },
  {
   "cell_type": "code",
   "execution_count": null,
   "id": "fcbae317",
   "metadata": {},
   "outputs": [],
   "source": []
  }
 ],
 "metadata": {
  "kernelspec": {
   "display_name": "Python 3",
   "language": "python",
   "name": "python3"
  },
  "language_info": {
   "codemirror_mode": {
    "name": "ipython",
    "version": 3
   },
   "file_extension": ".py",
   "mimetype": "text/x-python",
   "name": "python",
   "nbconvert_exporter": "python",
   "pygments_lexer": "ipython3",
   "version": "3.8.8"
  }
 },
 "nbformat": 4,
 "nbformat_minor": 5
}
