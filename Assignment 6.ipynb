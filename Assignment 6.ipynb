{
 "cells": [
  {
   "cell_type": "code",
   "execution_count": 1,
   "id": "b8ff9af1",
   "metadata": {},
   "outputs": [
    {
     "name": "stdout",
     "output_type": "stream",
     "text": [
      "My name is \"Elza\" from Mumbai.\n"
     ]
    }
   ],
   "source": [
    "'''1. What are escape characters, and how do you use them?\n",
    "\\ is the escape character'''\n",
    "name = \"My name is \\\"Elza\\\" from Mumbai.\"\n",
    "print(name) \n"
   ]
  },
  {
   "cell_type": "code",
   "execution_count": 2,
   "id": "e9a5ccdd",
   "metadata": {},
   "outputs": [
    {
     "data": {
      "text/plain": [
       "'2. What do the escape characters n and t stand for?\\n“\\t” is a tab, “\\n” is a new line'"
      ]
     },
     "execution_count": 2,
     "metadata": {},
     "output_type": "execute_result"
    }
   ],
   "source": [
    "'''2. What do the escape characters n and t stand for?\n",
    "“\\t” is a tab, “\\n” is a new line'''"
   ]
  },
  {
   "cell_type": "code",
   "execution_count": null,
   "id": "c86b7622",
   "metadata": {},
   "outputs": [],
   "source": [
    "'''3. What is the way to include backslash characters in a string?'''"
   ]
  },
  {
   "cell_type": "code",
   "execution_count": 22,
   "id": "fc392f52",
   "metadata": {},
   "outputs": [
    {
     "data": {
      "text/plain": [
       "'4. The string \"Howl\\'s Moving Castle\" is a correct value. Why isnt the single quote character in the \\n word Howl\\'s not escaped a problem? \\n Because the string had double quotes at the start and end ; and Howl\\'s had a single string'"
      ]
     },
     "execution_count": 22,
     "metadata": {},
     "output_type": "execute_result"
    }
   ],
   "source": [
    "'''4. The string \"Howl's Moving Castle\" is a correct value. Why isnt the single quote character in the \n",
    " word Howl's not escaped a problem? \n",
    " Because the string had double quotes at the start and end ; and Howl's had a single string'''"
   ]
  },
  {
   "cell_type": "code",
   "execution_count": null,
   "id": "77140121",
   "metadata": {},
   "outputs": [],
   "source": [
    "'''5. How do you write a string of newlines if you don't want to use the n character?'''"
   ]
  },
  {
   "cell_type": "code",
   "execution_count": 4,
   "id": "95f04bf9",
   "metadata": {},
   "outputs": [
    {
     "data": {
      "text/plain": [
       "'e'"
      ]
     },
     "execution_count": 4,
     "metadata": {},
     "output_type": "execute_result"
    }
   ],
   "source": [
    "#6. What are the values of the given expressions?\n",
    "'Hello, world!'[1]"
   ]
  },
  {
   "cell_type": "code",
   "execution_count": 5,
   "id": "e4870372",
   "metadata": {},
   "outputs": [
    {
     "data": {
      "text/plain": [
       "'Hello'"
      ]
     },
     "execution_count": 5,
     "metadata": {},
     "output_type": "execute_result"
    }
   ],
   "source": [
    "'Hello, world!'[0:5]"
   ]
  },
  {
   "cell_type": "code",
   "execution_count": 6,
   "id": "9a2e1057",
   "metadata": {},
   "outputs": [
    {
     "data": {
      "text/plain": [
       "'Hello'"
      ]
     },
     "execution_count": 6,
     "metadata": {},
     "output_type": "execute_result"
    }
   ],
   "source": [
    "'Hello, world!'[:5]"
   ]
  },
  {
   "cell_type": "code",
   "execution_count": 7,
   "id": "9b0acbdd",
   "metadata": {},
   "outputs": [
    {
     "data": {
      "text/plain": [
       "'lo, world!'"
      ]
     },
     "execution_count": 7,
     "metadata": {},
     "output_type": "execute_result"
    }
   ],
   "source": [
    "'Hello, world!'[3:]"
   ]
  },
  {
   "cell_type": "code",
   "execution_count": 8,
   "id": "7bccf7b1",
   "metadata": {},
   "outputs": [
    {
     "data": {
      "text/plain": [
       "'HELLO'"
      ]
     },
     "execution_count": 8,
     "metadata": {},
     "output_type": "execute_result"
    }
   ],
   "source": [
    "#7. What are the values of the following expressions?\n",
    "'Hello'.upper()"
   ]
  },
  {
   "cell_type": "code",
   "execution_count": 9,
   "id": "aa1aa455",
   "metadata": {},
   "outputs": [
    {
     "data": {
      "text/plain": [
       "True"
      ]
     },
     "execution_count": 9,
     "metadata": {},
     "output_type": "execute_result"
    }
   ],
   "source": [
    "'Hello'.upper().isupper()"
   ]
  },
  {
   "cell_type": "code",
   "execution_count": 10,
   "id": "74f07fda",
   "metadata": {},
   "outputs": [
    {
     "data": {
      "text/plain": [
       "'hello'"
      ]
     },
     "execution_count": 10,
     "metadata": {},
     "output_type": "execute_result"
    }
   ],
   "source": [
    "'Hello'.upper().lower()"
   ]
  },
  {
   "cell_type": "code",
   "execution_count": 11,
   "id": "56b12762",
   "metadata": {},
   "outputs": [
    {
     "name": "stdout",
     "output_type": "stream",
     "text": [
      "Object `expressions` not found.\n"
     ]
    },
    {
     "data": {
      "text/plain": [
       "['Remember,', 'remember,', 'the', 'fifth', 'of', 'July.']"
      ]
     },
     "execution_count": 11,
     "metadata": {},
     "output_type": "execute_result"
    }
   ],
   "source": [
    "8. What are the values of the following expressions?\n",
    "'Remember, remember, the fifth of July.'.split()"
   ]
  },
  {
   "cell_type": "code",
   "execution_count": 15,
   "id": "beaa2db2",
   "metadata": {},
   "outputs": [
    {
     "data": {
      "text/plain": [
       "'There-can-only-one'"
      ]
     },
     "execution_count": 15,
     "metadata": {},
     "output_type": "execute_result"
    }
   ],
   "source": [
    "'-'.join('There can only one'.split())"
   ]
  },
  {
   "cell_type": "code",
   "execution_count": 23,
   "id": "44900dc0",
   "metadata": {},
   "outputs": [
    {
     "name": "stdout",
     "output_type": "stream",
     "text": [
      "   goa     \n",
      "\n"
     ]
    }
   ],
   "source": [
    "'''9. What are the methods for right-justifying, left-justifying, and centering a string?'''\n",
    "A='goa'\n",
    "print(A.center(10),'\\n')"
   ]
  },
  {
   "cell_type": "code",
   "execution_count": 26,
   "id": "67984238",
   "metadata": {},
   "outputs": [
    {
     "name": "stdout",
     "output_type": "stream",
     "text": [
      "goa-------------------------------------\n"
     ]
    }
   ],
   "source": [
    "print(A.ljust(40,'-'))"
   ]
  },
  {
   "cell_type": "code",
   "execution_count": 27,
   "id": "f5343429",
   "metadata": {},
   "outputs": [
    {
     "name": "stdout",
     "output_type": "stream",
     "text": [
      "-------------------------------------goa\n"
     ]
    }
   ],
   "source": [
    "print(A.rjust(40,'-'))"
   ]
  },
  {
   "cell_type": "code",
   "execution_count": 28,
   "id": "84ce9129",
   "metadata": {},
   "outputs": [
    {
     "data": {
      "text/plain": [
       "'mumbai'"
      ]
     },
     "execution_count": 28,
     "metadata": {},
     "output_type": "execute_result"
    }
   ],
   "source": [
    "'''10. What is the best way to remove whitespace characters from the start or end?'''\n",
    "a=' mumbai '\n",
    "a.strip()"
   ]
  }
 ],
 "metadata": {
  "kernelspec": {
   "display_name": "Python 3",
   "language": "python",
   "name": "python3"
  },
  "language_info": {
   "codemirror_mode": {
    "name": "ipython",
    "version": 3
   },
   "file_extension": ".py",
   "mimetype": "text/x-python",
   "name": "python",
   "nbconvert_exporter": "python",
   "pygments_lexer": "ipython3",
   "version": "3.8.8"
  }
 },
 "nbformat": 4,
 "nbformat_minor": 5
}
